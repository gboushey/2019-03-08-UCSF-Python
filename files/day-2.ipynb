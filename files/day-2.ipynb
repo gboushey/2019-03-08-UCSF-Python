{
 "cells": [
  {
   "cell_type": "code",
   "execution_count": 1,
   "metadata": {},
   "outputs": [
    {
     "data": {
      "text/plain": [
       "'1234'"
      ]
     },
     "execution_count": 1,
     "metadata": {},
     "output_type": "execute_result"
    }
   ],
   "source": [
    "my_list = ['1234', '5678', '3456']\n",
    "my_list[0]"
   ]
  },
  {
   "cell_type": "code",
   "execution_count": 2,
   "metadata": {},
   "outputs": [
    {
     "name": "stdout",
     "output_type": "stream",
     "text": [
      "1234\n",
      "5678\n",
      "3456\n"
     ]
    }
   ],
   "source": [
    "for my_item in my_list:\n",
    "    print(my_item)"
   ]
  },
  {
   "cell_type": "code",
   "execution_count": 3,
   "metadata": {},
   "outputs": [
    {
     "name": "stdout",
     "output_type": "stream",
     "text": [
      "1235\n",
      "5679\n",
      "3457\n"
     ]
    }
   ],
   "source": [
    "for my_item in my_list:\n",
    "    print(int(my_item) + 1)"
   ]
  },
  {
   "cell_type": "code",
   "execution_count": 4,
   "metadata": {},
   "outputs": [],
   "source": [
    "for my_item in my_list:\n",
    "    int(my_item) + 1"
   ]
  },
  {
   "cell_type": "code",
   "execution_count": 5,
   "metadata": {},
   "outputs": [],
   "source": [
    "for my_item in my_list:\n",
    "    a_new_integer = int(my_item) + 1"
   ]
  },
  {
   "cell_type": "code",
   "execution_count": 6,
   "metadata": {},
   "outputs": [
    {
     "data": {
      "text/plain": [
       "['1234', '5678', '3456']"
      ]
     },
     "execution_count": 6,
     "metadata": {},
     "output_type": "execute_result"
    }
   ],
   "source": [
    "my_list"
   ]
  },
  {
   "cell_type": "code",
   "execution_count": 7,
   "metadata": {},
   "outputs": [
    {
     "data": {
      "text/plain": [
       "'3456'"
      ]
     },
     "execution_count": 7,
     "metadata": {},
     "output_type": "execute_result"
    }
   ],
   "source": [
    "my_item"
   ]
  },
  {
   "cell_type": "code",
   "execution_count": 8,
   "metadata": {},
   "outputs": [
    {
     "name": "stdout",
     "output_type": "stream",
     "text": [
      "3457\n"
     ]
    }
   ],
   "source": [
    "print(a_new_integer)"
   ]
  },
  {
   "cell_type": "code",
   "execution_count": 9,
   "metadata": {},
   "outputs": [
    {
     "name": "stdout",
     "output_type": "stream",
     "text": [
      "[1235, 5679, 3457]\n"
     ]
    }
   ],
   "source": [
    "my_new_list = []\n",
    "for my_item in my_list:\n",
    "    a_new_integer = int(my_item) + 1\n",
    "    my_new_list = my_new_list + [a_new_integer]\n",
    "print(my_new_list)"
   ]
  },
  {
   "cell_type": "code",
   "execution_count": 10,
   "metadata": {},
   "outputs": [],
   "source": [
    "# del my_new_list"
   ]
  },
  {
   "cell_type": "code",
   "execution_count": 11,
   "metadata": {},
   "outputs": [
    {
     "name": "stdout",
     "output_type": "stream",
     "text": [
      "['1234', '5678', '3456']\n",
      "1235\n",
      "[1235]\n",
      "5679\n",
      "[1235, 5679]\n",
      "3457\n",
      "[1235, 5679, 3457]\n",
      "2346\n",
      "[1235, 5679, 3457, 2346]\n"
     ]
    }
   ],
   "source": [
    "my_list = ['1234', '5678', '3456']\n",
    "print(my_list)\n",
    "my_list.append('2345')\n",
    "\n",
    "my_new_list = []\n",
    "for my_item in my_list:\n",
    "    a_new_integer = int(my_item) + 1\n",
    "    print(a_new_integer)\n",
    "    my_new_list.append(a_new_integer)\n",
    "    \n",
    "    print(my_new_list)"
   ]
  },
  {
   "cell_type": "code",
   "execution_count": 12,
   "metadata": {},
   "outputs": [
    {
     "name": "stdout",
     "output_type": "stream",
     "text": [
      "2\n",
      "6\n",
      "12\n",
      "20\n",
      "30\n"
     ]
    }
   ],
   "source": [
    "# Write a for loop that gives the sum of those numbers.\n",
    "# Save it to a variable.\n",
    "# Print the variable once at the end.\n",
    "\n",
    "# HINT: Is there a way to accumulate the sum\n",
    "# as you work through the items in the list\n",
    "\n",
    "even_numbers = [2, 4, 6, 8, 10]\n",
    "the_sum = 0\n",
    "for value in even_numbers:\n",
    "    the_sum = the_sum + value\n",
    "    print(the_sum)"
   ]
  },
  {
   "cell_type": "code",
   "execution_count": 13,
   "metadata": {},
   "outputs": [
    {
     "data": {
      "text/plain": [
       "30"
      ]
     },
     "execution_count": 13,
     "metadata": {},
     "output_type": "execute_result"
    }
   ],
   "source": [
    "sum(even_numbers)"
   ]
  },
  {
   "cell_type": "code",
   "execution_count": 14,
   "metadata": {},
   "outputs": [],
   "source": [
    "# sum = __builtin__.sum"
   ]
  },
  {
   "cell_type": "code",
   "execution_count": 18,
   "metadata": {},
   "outputs": [
    {
     "name": "stdout",
     "output_type": "stream",
     "text": [
      "Preeeety short\n"
     ]
    }
   ],
   "source": [
    "height = 0.25\n",
    "if height > 0.5:\n",
    "    print(\"I'm TALLL!!!\")\n",
    "    \n",
    "if height < 0.3:\n",
    "    print(\"Preeeety short\")"
   ]
  },
  {
   "cell_type": "code",
   "execution_count": 19,
   "metadata": {},
   "outputs": [
    {
     "name": "stdout",
     "output_type": "stream",
     "text": [
      "Not tall, I guess.\n"
     ]
    }
   ],
   "source": [
    "height = 0.25\n",
    "if height > 0.5:\n",
    "    print(\"I'm TALLL!!!\")\n",
    "else:\n",
    "    print(\"Not tall, I guess.\")"
   ]
  },
  {
   "cell_type": "code",
   "execution_count": 22,
   "metadata": {},
   "outputs": [
    {
     "name": "stdout",
     "output_type": "stream",
     "text": [
      "not boiling\n"
     ]
    }
   ],
   "source": [
    "temperature = 10.0000000000000001\n",
    "# Print \"boiling\" if the temperature is greater than 100\n",
    "# And \"not boiling\" if it's less than 100.\n",
    "\n",
    "#  \">=\" means greater than or equal to.\n",
    "#  \">\" means strictly greater than\n",
    "\n",
    "if temperature >= 100:\n",
    "    print(\"boiling\")\n",
    "else:\n",
    "    print(\"not boiling\")"
   ]
  },
  {
   "cell_type": "code",
   "execution_count": 26,
   "metadata": {},
   "outputs": [
    {
     "name": "stdout",
     "output_type": "stream",
     "text": [
      "Not boiling\n",
      "Boiling\n",
      "Boiling\n"
     ]
    }
   ],
   "source": [
    "temperatures = [10, 105, 2000]\n",
    "for temp in temperatures:\n",
    "    if temp >= 100:\n",
    "        print(\"Boiling\")\n",
    "    else:\n",
    "        print(\"Not boiling\")"
   ]
  },
  {
   "cell_type": "code",
   "execution_count": 31,
   "metadata": {},
   "outputs": [
    {
     "name": "stdout",
     "output_type": "stream",
     "text": [
      "The final temperature was 105\n",
      "The final temperature before it boiled was 10\n"
     ]
    }
   ],
   "source": [
    "temperatures = [10, 105, 2000]\n",
    "for temp in temperatures:\n",
    "    # If the temperature gets to be boiling STOP THE PROCESS\n",
    "    if temp >= 100:\n",
    "        break\n",
    "    else:\n",
    "        last_temp_under_boiling = temp\n",
    "print(\"The final temperature was\", temp)\n",
    "print(\"The final temperature before it boiled was\",\n",
    "      last_temp_under_boiling)"
   ]
  },
  {
   "cell_type": "code",
   "execution_count": 36,
   "metadata": {},
   "outputs": [
    {
     "name": "stdout",
     "output_type": "stream",
     "text": [
      "Not boiling\n",
      "Simmering\n",
      "Boiling\n",
      "Blazin'\n"
     ]
    }
   ],
   "source": [
    "temperatures = [10, 81, 105, 2000]\n",
    "for temp in temperatures:\n",
    "    if temp >= 1000:\n",
    "        print(\"Blazin'\")\n",
    "    elif temp >= 100:\n",
    "        print(\"Boiling\")\n",
    "    elif temp >= 80:\n",
    "        print(\"Simmering\")\n",
    "    else:\n",
    "        print(\"Not boiling\")"
   ]
  },
  {
   "cell_type": "code",
   "execution_count": 37,
   "metadata": {},
   "outputs": [
    {
     "name": "stdout",
     "output_type": "stream",
     "text": [
      "212.0\n"
     ]
    }
   ],
   "source": [
    "def to_fahrenheit(temp_in_c):\n",
    "    print((temp_in_c * 9/5) + 32)\n",
    "    \n",
    "to_fahrenheit(100)"
   ]
  },
  {
   "cell_type": "code",
   "execution_count": 44,
   "metadata": {},
   "outputs": [],
   "source": [
    "# Write a new function that takes a temperature in fahrenheit\n",
    "# and return it in celsius.\n",
    "\n",
    "def to_celsius(temp_in_f):\n",
    "    return (temp_in_f - 32) * 5 / 9\n",
    "\n",
    "def to_fahrenheit(temp_in_c):\n",
    "    return (temp_in_c * 9/5) + 32\n",
    "    \n",
    "temp_in_celsius = to_celsius(212)"
   ]
  },
  {
   "cell_type": "code",
   "execution_count": 45,
   "metadata": {},
   "outputs": [],
   "source": [
    "print(to_celsius(to_fahrenheit(100)))"
   ]
  },
  {
   "cell_type": "code",
   "execution_count": 46,
   "metadata": {},
   "outputs": [],
   "source": [
    "# Define a third function that takes the temperature\n",
    "# in celsius and converts it to kelvin\n",
    "\n",
    "def to_kelvin(temp_in_c):\n",
    "    return temp_in_c + 273.15"
   ]
  },
  {
   "cell_type": "code",
   "execution_count": 48,
   "metadata": {},
   "outputs": [
    {
     "data": {
      "text/plain": [
       "349.81666666666666"
      ]
     },
     "execution_count": 48,
     "metadata": {},
     "output_type": "execute_result"
    }
   ],
   "source": [
    "# Write a line of code to convert a value from F to Kelvin\n",
    "to_kelvin(to_celsius(170))"
   ]
  },
  {
   "cell_type": "code",
   "execution_count": 78,
   "metadata": {},
   "outputs": [
    {
     "data": {
      "image/png": "[encoded data removed]",
      "text/plain": [
       "<Figure size 432x288 with 1 Axes>"
      ]
     },
     "metadata": {
      "needs_background": "light"
     },
     "output_type": "display_data"
    }
   ],
   "source": [
    "import pandas as pd\n",
    "import matplotlib.pyplot as plt\n",
    "\n",
    "def plot_gdp_file(path_to_file, color):\n",
    "    data = pd.read_csv(path_to_file, index_col='country')\n",
    "    new_column_names = []\n",
    "    for name in data.columns:\n",
    "        new_column_names.append(int(name[-4:]))\n",
    "    data.columns = new_column_names\n",
    "    for country in data.index:\n",
    "        values_per_country = data.loc[country]\n",
    "        if values_per_country.mean() > 10000:\n",
    "            plt.plot(values_per_country, color=color)\n",
    "        else:\n",
    "            plt.plot(values_per_country, color=color, lw=0.5)\n",
    "        \n",
    "plot_gdp_file('gapminder_gdp_oceania.csv', 'blue')\n",
    "plot_gdp_file('gapminder_gdp_africa.csv', 'red')\n",
    "plt.yscale('log')"
   ]
  },
  {
   "cell_type": "code",
   "execution_count": 85,
   "metadata": {
    "scrolled": false
   },
   "outputs": [
    {
     "data": {
      "text/plain": [
       "country\n",
       "Mozambique                    502.319733\n",
       "Eritrea                       505.753808\n",
       "Burundi                       556.103265\n",
       "Ethiopia                      556.808383\n",
       "Liberia                       640.322438\n",
       "Malawi                        663.223677\n",
       "Rwanda                        670.080601\n",
       "Zimbabwe                      685.587682\n",
       "Mali                          686.395269\n",
       "Burkina Faso                  743.387037\n",
       "Lesotho                       745.369541\n",
       "Guinea-Bissau                 764.725963\n",
       "Congo Dem. Rep.               795.757282\n",
       "Niger                         808.897073\n",
       "Uganda                        843.733137\n",
       "Guinea                        874.685864\n",
       "Gambia                        884.755251\n",
       "Equatorial Guinea             958.566812\n",
       "Tanzania                      962.492293\n",
       "Ghana                         993.223957\n",
       "Benin                        1029.161251\n",
       "Central African Republic     1109.374338\n",
       "Chad                         1133.984950\n",
       "Comoros                      1172.603047\n",
       "Kenya                        1267.613204\n",
       "Sierra Leone                 1348.285159\n",
       "Somalia                      1450.992513\n",
       "Mauritania                   1497.492223\n",
       "Togo                         1532.776998\n",
       "Madagascar                   1544.228586\n",
       "Senegal                      1561.769116\n",
       "Zambia                       1588.688299\n",
       "Sao Tome and Principe        1737.561657\n",
       "Cameroon                     1783.432873\n",
       "Nigeria                      1981.951806\n",
       "Sudan                        2202.988423\n",
       "Morocco                      2370.619976\n",
       "Cote d'Ivoire                2517.736547\n",
       "Egypt                        2785.493582\n",
       "Angola                       3008.647355\n",
       "Djibouti                     3081.761022\n",
       "Tunisia                      3120.876811\n",
       "Botswana                     3214.857818\n",
       "Congo Rep.                   3259.178978\n",
       "Mauritius                    3710.982963\n",
       "Swaziland                    3781.410618\n",
       "Namibia                      3876.485958\n",
       "Reunion                      4319.804067\n",
       "Algeria                      4910.416756\n",
       "South Africa                 8028.651439\n",
       "Gabon                       21745.573280\n",
       "Libya                       21951.211760\n",
       "Name: gdpPercap_1977, dtype: float64"
      ]
     },
     "execution_count": 85,
     "metadata": {},
     "output_type": "execute_result"
    }
   ],
   "source": [
    "data = pd.read_csv('gapminder_gdp_africa.csv', index_col='country')\n",
    "data[data['gdpPercap_1977'] > 10000]['gdpPercap_1977']"
   ]
  },
  {
   "cell_type": "code",
   "execution_count": null,
   "metadata": {},
   "outputs": [],
   "source": []
  }
 ],
 "metadata": {
  "kernelspec": {
   "display_name": "Python 3",
   "language": "python",
   "name": "python3"
  },
  "language_info": {
   "codemirror_mode": {
    "name": "ipython",
    "version": 3
   },
   "file_extension": ".py",
   "mimetype": "text/x-python",
   "name": "python",
   "nbconvert_exporter": "python",
   "pygments_lexer": "ipython3",
   "version": "3.7.0"
  },
  "toc": {
   "nav_menu": {},
   "number_sections": true,
   "sideBar": true,
   "skip_h1_title": false,
   "title_cell": "Table of Contents",
   "title_sidebar": "Contents",
   "toc_cell": false,
   "toc_position": {},
   "toc_section_display": true,
   "toc_window_display": false
  }
 },
 "nbformat": 4,
 "nbformat_minor": 2
}
